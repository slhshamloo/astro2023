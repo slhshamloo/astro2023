{
 "cells": [
  {
   "cell_type": "markdown",
   "metadata": {},
   "source": [
    "# Packages and Configurations"
   ]
  },
  {
   "cell_type": "code",
   "execution_count": 1,
   "metadata": {},
   "outputs": [],
   "source": [
    "import astro_util, os, re\n",
    "import numpy as np\n",
    "from astropy.io import fits"
   ]
  },
  {
   "cell_type": "markdown",
   "metadata": {},
   "source": [
    "# Make Dark Frame Master"
   ]
  },
  {
   "cell_type": "code",
   "execution_count": 7,
   "metadata": {},
   "outputs": [],
   "source": [
    "dark_data, dark_headers = astro_util.get_all_data_with_exposure(\n",
    "    5.0, path=\"./data/unprocessed/dark/\")"
   ]
  },
  {
   "cell_type": "code",
   "execution_count": 8,
   "metadata": {},
   "outputs": [
    {
     "name": "stdout",
     "output_type": "stream",
     "text": [
      "['Shamloo', 'Yeganeh', 'Khanali', 'Dark', '15x5.0s', 'ISO1600', '1200D', '20230719.fits']\n"
     ]
    }
   ],
   "source": [
    "for dark_name in os.listdir(\"./data/unprocessed/dark/\"):\n",
    "    split_name = dark_name.split('_')\n",
    "    if \"5.0s\" in split_name:\n",
    "        dark_name = split_name\n",
    "        break\n",
    "for (i, substr) in enumerate(dark_name):\n",
    "    if bool(re.fullmatch(\"[0-9]+\\.?[0-9]*s\", substr)):\n",
    "        dark_name[i] = str(len(dark_headers)) + 'x' + substr\n",
    "    if bool(re.fullmatch(\"[0-9]+T[0-9]+\\.fits\", substr)):\n",
    "        dark_name[i] = substr.split('T')[0] + \".fits\"\n",
    "    if bool(re.fullmatch(\"[0-9]+T[0-9]+\", substr)):\n",
    "        dark_name[i] = substr.split('T')[0]\n",
    "print(dark_name)"
   ]
  },
  {
   "cell_type": "code",
   "execution_count": 9,
   "metadata": {},
   "outputs": [
    {
     "name": "stderr",
     "output_type": "stream",
     "text": [
      "c:\\Users\\SLHHe\\AppData\\Local\\Programs\\Python\\Python311\\Lib\\site-packages\\numpy\\core\\fromnumeric.py:758: UserWarning: Warning: 'partition' will ignore the 'mask' of the MaskedArray.\n",
      "  a.partition(kth, axis=axis, kind=kind, order=order)\n"
     ]
    }
   ],
   "source": [
    "fits.PrimaryHDU(data=np.array(np.median(dark_data, axis=0), dtype=np.uint16),\n",
    "    header=astro_util.build_master_header(dark_headers[0], len(dark_headers))\n",
    "    ).writeto(\"./data/master/\" + '_'.join(dark_name), overwrite=True)"
   ]
  },
  {
   "cell_type": "code",
   "execution_count": 10,
   "metadata": {},
   "outputs": [],
   "source": [
    "dark_data = None"
   ]
  },
  {
   "cell_type": "markdown",
   "metadata": {},
   "source": [
    "# Make Dark-Corrected Flat Frame"
   ]
  },
  {
   "cell_type": "code",
   "execution_count": 7,
   "metadata": {},
   "outputs": [],
   "source": [
    "flat_data, flat_headers = astro_util.get_all_data_with_exposure(\n",
    "    2.5, path=\"./data/unprocessed/flat/\")"
   ]
  },
  {
   "cell_type": "code",
   "execution_count": 8,
   "metadata": {},
   "outputs": [
    {
     "name": "stdout",
     "output_type": "stream",
     "text": [
      "['Shamloo', 'Yeganeh', 'Khanali', 'Flat', '19x2.5s', 'ISO100', '1200D', 'Newton8', '20230718', 'Aznaveh.fits']\n"
     ]
    }
   ],
   "source": [
    "for filename in os.listdir(\"./data/unprocessed/flat/\"):\n",
    "    split_name = filename.split('_')\n",
    "    if \"2.5s\" in split_name:\n",
    "        flat_name = split_name\n",
    "        break\n",
    "for (i, substr) in enumerate(flat_name):\n",
    "    if bool(re.fullmatch(\"[0-9]+\\.?[0-9]*s\", substr)):\n",
    "        flat_name[i] = str(len(flat_headers)) + 'x' + substr\n",
    "    if bool(re.fullmatch(\"[0-9]+T[0-9]+\\.fits\", substr)):\n",
    "        flat_name[i] = substr.split('T')[0] + \".fits\"\n",
    "    if bool(re.fullmatch(\"[0-9]+T[0-9]+\", substr)):\n",
    "        flat_name[i] = substr.split('T')[0]\n",
    "print(flat_name)"
   ]
  },
  {
   "cell_type": "code",
   "execution_count": 10,
   "metadata": {},
   "outputs": [
    {
     "name": "stderr",
     "output_type": "stream",
     "text": [
      "c:\\Users\\SLHHe\\AppData\\Local\\Programs\\Python\\Python311\\Lib\\site-packages\\numpy\\core\\fromnumeric.py:758: UserWarning: Warning: 'partition' will ignore the 'mask' of the MaskedArray.\n",
      "  a.partition(kth, axis=axis, kind=kind, order=order)\n"
     ]
    }
   ],
   "source": [
    "for filename in os.listdir(\"./data/master/\"):\n",
    "    split_name = filename.split('_')\n",
    "    if \"Dark\" in split_name:\n",
    "        for substr in split_name:\n",
    "            if substr.endswith(\"2.5s\"):\n",
    "                flat_dark = fits.open(\"./data/master/\" + filename)[0].data\n",
    "flat_data = np.median(flat_data, axis=0) - flat_dark\n",
    "flat_data[flat_data < 0] = 0\n",
    "flat_data = flat_data.astype(np.uint16)\n",
    "flat_header = astro_util.build_master_header(flat_headers[0], len(flat_headers))"
   ]
  },
  {
   "cell_type": "code",
   "execution_count": 11,
   "metadata": {},
   "outputs": [],
   "source": [
    "fits.PrimaryHDU(data=flat_data, header=flat_header).writeto(\n",
    "    \"./data/master/\" + '_'.join(flat_name), overwrite=True)"
   ]
  },
  {
   "cell_type": "code",
   "execution_count": 12,
   "metadata": {},
   "outputs": [],
   "source": [
    "flat_data = None"
   ]
  },
  {
   "cell_type": "markdown",
   "metadata": {},
   "source": [
    "# Flat-Field and Dark Current Correction"
   ]
  },
  {
   "cell_type": "code",
   "execution_count": 14,
   "metadata": {},
   "outputs": [],
   "source": [
    "for filename in os.listdir(\"./data/master/\"):\n",
    "    substrs = filename.split('_')\n",
    "    if \"Dark\" in substrs:\n",
    "        for substr in substrs:\n",
    "            if substr.endswith(\"1.6s\"):\n",
    "                dark_master = fits.open(\"./data/master/\" + filename)\n",
    "                break"
   ]
  },
  {
   "cell_type": "code",
   "execution_count": 15,
   "metadata": {},
   "outputs": [],
   "source": [
    "for filename in os.listdir(\"./data/master/\"):\n",
    "    substrs = filename.split('_')\n",
    "    if \"Flat\" in substrs:\n",
    "        for substr in substrs:\n",
    "            flat_master = fits.open(\"./data/master/\" + filename)\n",
    "            break"
   ]
  },
  {
   "cell_type": "code",
   "execution_count": 19,
   "metadata": {},
   "outputs": [],
   "source": [
    "gain_table = flat_master[0].data / np.median(flat_master[0].data)\n",
    "gain_table[gain_table == 0] = 1"
   ]
  },
  {
   "cell_type": "code",
   "execution_count": 26,
   "metadata": {},
   "outputs": [],
   "source": [
    "for filename in os.listdir(\"./data/unprocessed/stars/\"):\n",
    "    fitsfile = fits.open(\"./data/unprocessed/stars/\" + filename)\n",
    "    header = fitsfile[0].header\n",
    "    header[\"CALSTAT\"] = 'F'\n",
    "    data = fitsfile[0].data\n",
    "    data = (data.astype(np.float64) - dark_master[0].data) / gain_table\n",
    "    data[data < 0] = 0\n",
    "    data = data.astype(np.uint16)\n",
    "    fits.PrimaryHDU(data=data, header=header).writeto(\n",
    "        \"./data/stars/\" + filename, overwrite=True)"
   ]
  }
 ],
 "metadata": {
  "kernelspec": {
   "display_name": "Python 3",
   "language": "python",
   "name": "python3"
  },
  "language_info": {
   "codemirror_mode": {
    "name": "ipython",
    "version": 3
   },
   "file_extension": ".py",
   "mimetype": "text/x-python",
   "name": "python",
   "nbconvert_exporter": "python",
   "pygments_lexer": "ipython3",
   "version": "3.11.3"
  },
  "orig_nbformat": 4
 },
 "nbformat": 4,
 "nbformat_minor": 2
}
